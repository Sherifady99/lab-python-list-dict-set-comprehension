{
 "cells": [
  {
   "cell_type": "markdown",
   "id": "25d7736c-ba17-4aff-b6bb-66eba20fbf4e",
   "metadata": {},
   "source": [
    "# Lab | List, Dict and Set Comprehension"
   ]
  },
  {
   "cell_type": "markdown",
   "id": "7dd3cbde-675a-4b81-92c3-f728846dbe06",
   "metadata": {},
   "source": [
    "## Exercise: Managing Customer Orders Optimized with Comprehension"
   ]
  },
  {
   "cell_type": "markdown",
   "id": "5d500160-2fb7-4777-b5e4-09d45ebaf328",
   "metadata": {},
   "source": [
    "In the previous exercise, you developed a program to manage customer orders and inventory. Now, let's take it a step further and incorporate comprehension into your code.\n",
    "\n",
    "Follow the steps below to complete the exercise:\n",
    "\n",
    "1. Review your code from the previous exercise and identify areas where you can apply comprehension to simplify and streamline your code. \n",
    "\n",
    "    - *Hint: Apply it to initialize inventory, updating the inventory and printing the updated inventory.*\n",
    "    \n",
    "    - For example, in initializing the inventory, we could have:\n",
    "    \n",
    "        ```python\n",
    "        def initialize_inventory(products):\n",
    "            inventory = {product: int(input(f\"Enter the quantity of {product}s available: \")) for product in products}\n",
    "            return inventory\n",
    "\n",
    "        ```\n",
    "<br>\n",
    "    \n",
    "    \n",
    "2. Modify the function get_customer_orders so it prompts the user to enter the number of customer orders and gathers the product names using a loop and user input. Use comprehension.\n",
    "\n",
    "3. Add a new function to calculate the total price of the customer order. For each product in customer_orders, prompt the user to enter the price of that product. Use comprehension to calculate the total price. Note: assume that the user can only have 1 unit of each product.\n",
    "\n",
    "4. Modify the update_inventory function to remove the product from the inventory if its quantity becomes zero after fulfilling the customer orders. Use comprehension to filter out the products with a quantity of zero from the inventory.\n",
    "\n",
    "5. Print the total price of the customer order.\n",
    "\n",
    "Your code should produce output similar to the following:\n",
    "\n",
    "```python\n",
    "Enter the quantity of t-shirts available:  5\n",
    "Enter the quantity of mugs available:  4\n",
    "Enter the quantity of hats available:  3\n",
    "Enter the quantity of books available:  2\n",
    "Enter the quantity of keychains available:  1\n",
    "Enter the number of customer orders:  2\n",
    "Enter the name of a product that a customer wants to order:  hat\n",
    "Enter the name of a product that a customer wants to order:  keychain\n",
    "\n",
    "Order Statistics:\n",
    "Total Products Ordered: 2\n",
    "Percentage of Unique Products Ordered: 40.0\n",
    "\n",
    "Updated Inventory:\n",
    "t-shirt: 5\n",
    "mug: 4\n",
    "hat: 2\n",
    "book: 2\n",
    "Enter the price of keychain:  5\n",
    "Enter the price of hat:  10\n",
    "Total Price: 15.0\n",
    "\n",
    "```\n"
   ]
  },
  {
   "cell_type": "code",
   "execution_count": 210,
   "id": "1cc3d3f4",
   "metadata": {},
   "outputs": [],
   "source": [
    "products = [\"t-shirt\", \"mug\", \"hat\", \"book\", \"keychain\"]"
   ]
  },
  {
   "cell_type": "code",
   "execution_count": 184,
   "id": "5c2fcd45",
   "metadata": {},
   "outputs": [],
   "source": [
    "# Initialize inventory function: Applying comprehension\n",
    "\n",
    "def initialize_inventory(products):\n",
    "    inventory = {product:int(input(f\"Enter the quantity of {product}s available: \")) for product in products }\n",
    "    return inventory\n",
    "\n",
    "inventory = initialize_inventory(products)"
   ]
  },
  {
   "cell_type": "code",
   "execution_count": null,
   "id": "976d4e1b",
   "metadata": {},
   "outputs": [],
   "source": [
    "# 2. Get Customer Orders - Applying comprehension and new inputs.\n",
    "\n",
    "def get_customer_orders():\n",
    "    number_of_orders = int(input(\"Enter the number of of customer orders: \"))\n",
    "    customer_orders = {name for _ in range(number_of_orders) if (name := input(\"Enter the name of a product (t-shirt, mug, hat, book, keychain): \")) in products}\n",
    "    return customer_orders\n",
    "\n",
    "customer_orders = get_customer_orders()\n",
    "\n",
    "print(customer_orders)"
   ]
  },
  {
   "cell_type": "code",
   "execution_count": null,
   "id": "b0945a88",
   "metadata": {},
   "outputs": [],
   "source": [
    "# Creating the total price function with comprehension:\n",
    "\n",
    "def calculate_total_price(customer_orders):\n",
    "    total_price = sum(float(input(f\"Please enter the price of {product}: \")) for product in customer_orders)\n",
    "    return print(f\"Total order price: {total_price}\")\n",
    "\n",
    "calculate_total_price(customer_orders)"
   ]
  },
  {
   "cell_type": "code",
   "execution_count": 199,
   "id": "b23e05f2",
   "metadata": {},
   "outputs": [],
   "source": [
    "# Updating Inventory function - Using Comprehension\n",
    "\n",
    "def update_inventory(customer_orders, inventory):\n",
    "    updated_inventory  = {order: inventory[order] - 1 if order in customer_orders else inventory[order] for order in inventory}\n",
    "    return updated_inventory\n",
    "\n",
    "updated_inventory =update_inventory(customer_orders, inventory)"
   ]
  },
  {
   "cell_type": "code",
   "execution_count": 207,
   "id": "570a295c",
   "metadata": {},
   "outputs": [],
   "source": [
    "# Calculating order statistics function\n",
    "\n",
    "def calculate_order_statistics(customer_orders, products):\n",
    "    customer_order_length = len(customer_orders)\n",
    "    percentage_ordered = (len(customer_orders) / len(products)) * 100\n",
    "    return customer_order_length, percentage_ordered\n",
    "\n",
    "order_statistics = calculate_order_statistics(customer_orders, products)"
   ]
  },
  {
   "cell_type": "code",
   "execution_count": null,
   "id": "d5c27273",
   "metadata": {},
   "outputs": [],
   "source": [
    "# Defining Print Order Statistics Function:\n",
    "\n",
    "def print_order_statistics(order_statistics):\n",
    "    customer_order_length, percentage_ordered = order_statistics\n",
    "    print(\"Order Statistics:\")\n",
    "    print(f\"Total Products Ordered: {customer_order_length}\", customer_orders)\n",
    "    print(\"Percentage of Products Ordered:\",round(percentage_ordered, 2), \"%\")\n",
    "\n",
    "\n",
    "print_order_statistics(order_statistics)"
   ]
  },
  {
   "cell_type": "code",
   "execution_count": null,
   "id": "d2c70040",
   "metadata": {},
   "outputs": [],
   "source": [
    "# Printing updated inventory function - Applying comprehension\n",
    "\n",
    "def print_updated_inventory(inventory):\n",
    "    print(\"After this order, your remaining inventory is:\\n\" +\n",
    "          \"\\n\".join(f\"{product}: {quantity}\" for product, quantity in updated_inventory.items()if product not in customer_orders or quantity > 1))\n",
    "    \n",
    "print_updated_inventory(updated_inventory)"
   ]
  },
  {
   "cell_type": "code",
   "execution_count": null,
   "id": "5a2c39e0",
   "metadata": {},
   "outputs": [],
   "source": [
    "# Launching all functions to test workflow:\n",
    "\n",
    "inventory = initialize_inventory(products)\n",
    "customer_orders = get_customer_orders()\n",
    "calculate_total_price(customer_orders)\n",
    "order_statistics = calculate_order_statistics(customer_orders, products)\n",
    "print_order_statistics(order_statistics)\n",
    "update_inventory(customer_orders, inventory)\n",
    "print_updated_inventory(inventory)"
   ]
  }
 ],
 "metadata": {
  "kernelspec": {
   "display_name": "base",
   "language": "python",
   "name": "python3"
  },
  "language_info": {
   "codemirror_mode": {
    "name": "ipython",
    "version": 3
   },
   "file_extension": ".py",
   "mimetype": "text/x-python",
   "name": "python",
   "nbconvert_exporter": "python",
   "pygments_lexer": "ipython3",
   "version": "3.12.7"
  }
 },
 "nbformat": 4,
 "nbformat_minor": 5
}
